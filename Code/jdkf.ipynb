# Function to ensure covariance matrices remain positive definite for numerical stability

def ensure_positive_definite(matrix, min_eigenvalue=1e-6):
    """
    Ensures the matrix is positive definite by adjusting its eigenvalues.

    Parameters:
    matrix (numpy.ndarray): The input matrix to be checked and adjusted.
    min_eigenvalue (float): The minimum eigenvalue threshold.

    Returns:
    numpy.ndarray: A positive definite matrix.
    """
    # Eigenvalue decomposition
    eigenvalues, eigenvectors = np.linalg.eigh(matrix)
    # Clip eigenvalues to ensure they are not too small
    eigenvalues = np.clip(eigenvalues, min_eigenvalue, None)
    # Reconstruct the matrix
    matrix_pd = (eigenvectors @ np.diag(eigenvalues)) @ eigenvectors.T
    return matrix_pd
